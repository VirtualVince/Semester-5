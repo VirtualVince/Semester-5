{
  "cells": [
    {
      "cell_type": "markdown",
      "id": "01656eb6",
      "metadata": {
        "id": "01656eb6",
        "nbgrader": {
          "grade": false,
          "grade_id": "cell-9801eb509e41c7ed",
          "locked": true,
          "schema_version": 3,
          "solution": false,
          "task": false
        }
      },
      "source": [
        "# COMP 3122 – Assignment 01 (Individual Assignment)"
      ]
    },
    {
      "cell_type": "markdown",
      "id": "edfcae64",
      "metadata": {
        "id": "edfcae64",
        "nbgrader": {
          "grade": false,
          "grade_id": "cell-a3baf4a5aa751a18",
          "locked": true,
          "schema_version": 3,
          "solution": false,
          "task": false
        }
      },
      "source": [
        "###     Video\n",
        "Create a video between 3-5 minutes long explaining the function calls you have used, the parameters passed and most importantly, the reason for performing each step as related to Machine learning.\n",
        "*    You must upload this YouTube or any video streaming platform.\n",
        "*    The video cannot be private, it must be **unlisted** or **public**"
      ]
    },
    {
      "cell_type": "markdown",
      "id": "595933e4",
      "metadata": {
        "id": "595933e4",
        "nbgrader": {
          "grade": false,
          "grade_id": "cell-20300352746d30cb",
          "locked": true,
          "schema_version": 3,
          "solution": false,
          "task": false
        }
      },
      "source": [
        "Please write your name and relevant info in the first cell(s) as follow:\n",
        "**Vincente Seuqeira**\n",
        "\n",
        "#### **Student ID**: 101484793"
      ]
    },
    {
      "cell_type": "code",
      "execution_count": 1,
      "id": "4f77c05c-ba7e-4863-9900-0113d6d84eb3",
      "metadata": {
        "id": "4f77c05c-ba7e-4863-9900-0113d6d84eb3",
        "nbgrader": {
          "grade": false,
          "grade_id": "cell-56f3d4b44a0c9a2c",
          "locked": true,
          "schema_version": 3,
          "solution": false,
          "task": false
        }
      },
      "outputs": [],
      "source": [
        "import numpy as np\n",
        "import pandas as pd #optional - you may use it to read the csv file instead of numpy\n",
        "import matplotlib.pyplot as plt"
      ]
    },
    {
      "cell_type": "markdown",
      "id": "c6db4621",
      "metadata": {
        "id": "c6db4621",
        "nbgrader": {
          "grade": false,
          "grade_id": "cell-86c8e09d6fc86231",
          "locked": true,
          "schema_version": 3,
          "solution": false,
          "task": false
        }
      },
      "source": [
        "### Question 1:\t(1 point)\n",
        "\n",
        "1. Import the `biostats.csv` file and store it in an appropriate dataset with the variable name `biostats_array`.\n",
        "\n",
        "2. Fetch the Age column of the dataset as an array, and use a variable `ages` to hold it."
      ]
    },
    {
      "cell_type": "code",
      "execution_count": null,
      "id": "dc39c377",
      "metadata": {
        "id": "dc39c377",
        "nbgrader": {
          "grade": false,
          "grade_id": "cell-5ec6f428a25ab524",
          "locked": false,
          "schema_version": 3,
          "solution": true,
          "task": false
        }
      },
      "outputs": [],
      "source": [
        "biostats_array = pd.read_csv('biostats.csv')\n",
        "ages = biostats_array['Age'].to_numpy()"
      ]
    },
    {
      "cell_type": "code",
      "execution_count": null,
      "id": "d9983ce9",
      "metadata": {
        "id": "d9983ce9",
        "nbgrader": {
          "grade": false,
          "grade_id": "cell-9f95e28c3443defe",
          "locked": false,
          "schema_version": 3,
          "solution": true,
          "task": false
        }
      },
      "outputs": [],
      "source": [
        "print(\"Question 1:\")\n",
        "print(f\"Dataset shape: {biostats_array.shape}\")\n",
        "print(f\"Ages array: {ages}\")\n",
        "print()"
      ]
    },
    {
      "cell_type": "markdown",
      "id": "c7d9c3e0",
      "metadata": {
        "id": "c7d9c3e0"
      },
      "source": [
        "### Question 2:\t (1 point)\n",
        "\n",
        "Write `Python` code to calculate the average (mean), median, standard deviation, minimum and maximum of the array.\n",
        "\n",
        "**Important Note: Do not use `python` or `numpy` bult-in functions.**\n",
        "\n",
        "\n",
        "**Hints:**\n",
        "#### Formula for Median\n",
        "\n",
        "The `median` is the middle value in a dataset when the values are sorted in ascending order.\n",
        "\n",
        "- If the dataset has odd number of elements → median = middle element.\n",
        "\n",
        "- If the dataset has even number of elements → median = average of the two middle elements.\n",
        "\n",
        "\n",
        "#### Formula for Standard Deviation\n",
        "\n",
        "The **population standard deviation** is:\n",
        "\n",
        "$\n",
        "\\sigma = \\sqrt{\\frac{1}{N} \\sum_{i=1}^{N} (x_i - \\mu)^2}\n",
        "$\n",
        "\n",
        "Where:  \n",
        "- $x_i$ = each data point  \n",
        "- $\\mu$ = mean of the dataset  \n",
        "- $N$ = total number of data points  \n",
        "\n",
        "\n",
        "\n"
      ]
    },
    {
      "cell_type": "code",
      "execution_count": null,
      "id": "e0b3e30e",
      "metadata": {
        "id": "e0b3e30e"
      },
      "outputs": [],
      "source": [
        "# Mean\n",
        "sum_ages = 0\n",
        "for age in ages:\n",
        "    sum_ages += age\n",
        "my_average = sum_ages / len(ages)\n",
        "\n",
        "# Median\n",
        "sorted_ages = ages.copy()\n",
        "# bubble sort\n",
        "for i in range(len(sorted_ages)):\n",
        "    for j in range(i + 1, len(sorted_ages)):\n",
        "        if sorted_ages[i] > sorted_ages[j]:\n",
        "            sorted_ages[i], sorted_ages[j] = sorted_ages[j], sorted_ages[i]\n",
        "\n",
        "n = len(sorted_ages)\n",
        "if n % 2 == 0:\n",
        "    my_median = (sorted_ages[n//2 - 1] + sorted_ages[n//2]) / 2\n",
        "else:\n",
        "    my_median = sorted_ages[n//2]\n",
        "\n",
        "# Standard deviation\n",
        "sum_squared_diff = 0\n",
        "for age in ages:\n",
        "    sum_squared_diff += (age - my_average) ** 2\n",
        "my_std = (sum_squared_diff / len(ages)) ** 0.5\n",
        "\n",
        "# Minimum and Maximum\n",
        "my_minimum = ages[0]\n",
        "my_maximum = ages[0]\n",
        "for age in ages:\n",
        "    if age < my_minimum:\n",
        "        my_minimum = age\n",
        "    if age > my_maximum:\n",
        "        my_maximum = age\n",
        "\n",
        "print(\"Question 2 (Manual calculations):\")\n",
        "print(f\"Average: {my_average:.2f}\")\n",
        "print(f\"Median: {my_median:.2f}\")\n",
        "print(f\"Standard Deviation: {my_std:.2f}\")\n",
        "print(f\"Minimum: {my_minimum}\")\n",
        "print(f\"Maximum: {my_maximum}\")\n",
        "print()"
      ]
    },
    {
      "cell_type": "markdown",
      "id": "562e4818",
      "metadata": {
        "id": "562e4818",
        "nbgrader": {
          "grade": false,
          "grade_id": "cell-9cb67aef710f2d02",
          "locked": true,
          "schema_version": 3,
          "solution": false,
          "task": false
        }
      },
      "source": [
        "### Question 3:\t (1 point)\n",
        "\n",
        "Use methods of `numpy` package to calculate the follwoing statistics of the array;\n",
        "- average,\n",
        "- standard deviation,\n",
        "- minimum and maximum,\n",
        "- 30th and 70th percentile"
      ]
    },
    {
      "cell_type": "code",
      "execution_count": null,
      "id": "89ba1b34",
      "metadata": {
        "id": "89ba1b34",
        "nbgrader": {
          "grade": false,
          "grade_id": "cell-7b1290ba723cb1aa",
          "locked": false,
          "schema_version": 3,
          "solution": true,
          "task": false
        }
      },
      "outputs": [],
      "source": [
        "# Calculate statistics using NumPy functions\n",
        "average_numpy = np.mean(ages)\n",
        "median_numpy = np.median(ages)\n",
        "std_numpy = np.std(ages)\n",
        "min_numpy = np.min(ages)\n",
        "max_numpy = np.max(ages)\n",
        "p30 = np.percentile(ages, 30)\n",
        "p70 = np.percentile(ages, 70)\n",
        "\n",
        "print(\"Question 3 (NumPy functions):\")\n",
        "print(f\"Average: {average_numpy:.2f}\")\n",
        "print(f\"Median: {median_numpy:.2f}\")\n",
        "print(f\"Standard Deviation: {std_numpy:.2f}\")\n",
        "print(f\"Minimum: {min_numpy}\")\n",
        "print(f\"Maximum: {max_numpy}\")\n",
        "print(f\"30th Percentile: {p30:.2f}\")\n",
        "print(f\"70th Percentile: {p70:.2f}\")\n",
        "print()"
      ]
    },
    {
      "cell_type": "markdown",
      "id": "43ca2207",
      "metadata": {
        "id": "43ca2207",
        "nbgrader": {
          "grade": false,
          "grade_id": "cell-20c8a044aa332f5d",
          "locked": true,
          "schema_version": 3,
          "solution": false,
          "task": false
        }
      },
      "source": [
        "### Question 4:\t(1 point)\n",
        "\n",
        "Using the Matplotlib library,\n",
        "\n",
        "1. draw a histogram chart for the Age column. Use an appropriate title, X-label, and Y-label. Moreover, include your first name in the title, e.g. Age Distribution – By Reza.\n",
        "\n",
        "2. draw vertical lines in mean, median and 30th and 70th percentiles in the histogram. (hint: use `plt.axvline()` method to draw vertical line)\n",
        "\n",
        "3. Calculate how many data points fall below the 30th percentile and verify that this number is approximately **30% of all data**. Repeat the calculation for the 70th percentile."
      ]
    },
    {
      "cell_type": "code",
      "execution_count": null,
      "id": "cdde5959",
      "metadata": {
        "id": "cdde5959",
        "nbgrader": {
          "grade": false,
          "grade_id": "cell-fdc80fba1896556d",
          "locked": false,
          "schema_version": 3,
          "solution": true,
          "task": false
        }
      },
      "outputs": [],
      "source": [
        "# Create histogram with vertical lines and verify percentiles\n",
        "plt.figure(figsize=(10, 6))\n",
        "plt.hist(ages, bins=10, edgecolor='black', alpha=0.7)\n",
        "plt.axvline(average_numpy, color='red', linestyle='--', linewidth=2, label=f'Mean: {average_numpy:.1f}')\n",
        "plt.axvline(median_numpy, color='green', linestyle='--', linewidth=2, label=f'Median: {median_numpy:.1f}')\n",
        "plt.axvline(p30, color='blue', linestyle='--', linewidth=2, label=f'30th Percentile: {p30:.1f}')\n",
        "plt.axvline(p70, color='orange', linestyle='--', linewidth=2, label=f'70th Percentile: {p70:.1f}')\n",
        "plt.title('Age Distribution - By [Your Name]')\n",
        "plt.xlabel('Age (years)')\n",
        "plt.ylabel('Frequency')\n",
        "plt.legend()\n",
        "plt.grid(True, alpha=0.3)\n",
        "plt.tight_layout()\n",
        "plt.savefig('age_distribution.png', dpi=300, bbox_inches='tight')\n",
        "plt.show()\n",
        "\n",
        "# Verify percentiles\n",
        "below_30th = np.sum(ages < p30)\n",
        "below_70th = np.sum(ages < p70)\n",
        "total_count = len(ages)\n",
        "\n",
        "print(\"Question 4 (Percentile verification):\")\n",
        "print(f\"Data points below 30th percentile: {below_30th} ({below_30th/total_count*100:.1f}%)\")\n",
        "print(f\"Data points below 70th percentile: {below_70th} ({below_70th/total_count*100:.1f}%)\")\n",
        "print()"
      ]
    },
    {
      "cell_type": "markdown",
      "id": "tlSaLG2OVg6M",
      "metadata": {
        "id": "tlSaLG2OVg6M"
      },
      "source": [
        "### Question 5: Broadcasting (2 points)\n",
        "\n",
        "Using the biostats dataset you loaded earlier:\n",
        "\n",
        "1.   Use broadcasting to convert:\n",
        "*   `Height(Inches)` → meters (1 inch = 0.0254 m)\n",
        "\n",
        "*   `Weight(Pounds)` → kilograms (1 lb = 0.453592 kg)\n",
        "\n",
        "2.   Compute a BMI array using broadcasting:\n",
        "BMI = weight_kg / (height_m)^2\n",
        "\n",
        "3.   Create a z-score normalized age array (no loops):\n",
        "\n",
        "z = (ages - mean(ages))/std(ages)\n",
        "\n",
        "Rules: Use vectorized NumPy operations only (no Python loops)\n",
        "\n",
        "\n",
        "\n",
        "\n",
        "\n",
        "\n"
      ]
    },
    {
      "cell_type": "code",
      "execution_count": null,
      "id": "EaKsuaaZYb4u",
      "metadata": {
        "id": "EaKsuaaZYb4u"
      },
      "outputs": [],
      "source": [
        "# Assume biostats_array columns include: Name, Sex, Age, Height(Inches), Weight(Pounds)\n",
        "# If you used pandas earlier, you may extract the columns as NumPy arrays with .to_numpy()\n",
        "\n",
        "# Broadcasting: Convert units and compute BMI and z-scores\n",
        "heights_in = biostats_array['Height'].to_numpy()\n",
        "weights_lb = biostats_array['Weight'].to_numpy()\n",
        "\n",
        "# Convert using broadcasting (vectorized operations)\n",
        "heights_m = heights_in * 0.0254  # Broadcasting: multiply each element\n",
        "weights_kg = weights_lb * 0.453592  # Broadcasting: multiply each element\n",
        "\n",
        "# Compute BMI using broadcasting\n",
        "bmi = weights_kg / (heights_m ** 2)  # Element-wise operations\n",
        "\n",
        "# Z-score normalization using broadcasting\n",
        "ages_z = (ages - np.mean(ages)) / np.std(ages)  # Broadcasting: subtract mean, divide by std\n",
        "\n",
        "print(\"Question 5 (Broadcasting):\")\n",
        "print(f\"Heights (meters): {heights_m[:5]}\")  # First 5 values\n",
        "print(f\"Weights (kg): {weights_kg[:5]}\")\n",
        "print(f\"BMI values: {bmi[:5]}\")\n",
        "print(f\"Z-scored ages: {ages_z[:5]}\")\n",
        "print()\n"
      ]
    },
    {
      "cell_type": "markdown",
      "id": "Epv8vEtDYoSb",
      "metadata": {
        "id": "Epv8vEtDYoSb"
      },
      "source": [
        "###     Question 6: Indexing with Booleans & Bit Masks (2 points)\n",
        "Using boolean masks (and bitwise operators &, |, ~):\n",
        "\n",
        "\n",
        "1.   Create a mask for adults (Age >= 18) and compute:\n",
        "*   Count of adults\n",
        "*   Average BMI among adults\n",
        "\n",
        "\n",
        "2.   Create a mask for females under 30 and compute:\n",
        "*   Count\n",
        "*   Median BMI\n",
        "\n",
        "3. Create a mask for overweight (use BMI ≥ 25) and compute:\n",
        "*   Percentage of dataset that is overweight\n",
        "*   Average age of overweight group\n",
        "\n",
        "Rules: Use boolean arrays and bitwise ops. Don't use loops."
      ]
    },
    {
      "cell_type": "code",
      "execution_count": null,
      "id": "Vn7Zc_AhZEW7",
      "metadata": {
        "id": "Vn7Zc_AhZEW7"
      },
      "outputs": [],
      "source": [
        "# Boolean indexing and bit masks\n",
        "sex_array = biostats_array['Sex'].str.strip().to_numpy()  # Remove whitespace\n",
        "\n",
        "# Mask for adults (Age >= 18)\n",
        "adults_mask = ages >= 18\n",
        "num_adults = np.sum(adults_mask)\n",
        "avg_bmi_adults = np.mean(bmi[adults_mask])\n",
        "\n",
        "# Mask for females under 30 using bitwise AND (&)\n",
        "females_under30_mask = (sex_array == '\"F\"') & (ages < 30)\n",
        "num_f_under30 = np.sum(females_under30_mask)\n",
        "median_bmi_f_under30 = np.median(bmi[females_under30_mask])\n",
        "\n",
        "# Mask for overweight (BMI >= 25)\n",
        "overweight_mask = bmi >= 25\n",
        "pct_overweight = (np.sum(overweight_mask) / len(bmi)) * 100\n",
        "avg_age_overweight = np.mean(ages[overweight_mask])\n",
        "\n",
        "print(\"Question 6 (Boolean Indexing):\")\n",
        "print(f\"Number of adults: {num_adults}\")\n",
        "print(f\"Average BMI of adults: {avg_bmi_adults:.2f}\")\n",
        "print(f\"Females under 30: {num_f_under30}\")\n",
        "print(f\"Median BMI of females under 30: {median_bmi_f_under30:.2f}\")\n",
        "print(f\"Percentage overweight: {pct_overweight:.1f}%\")\n",
        "print(f\"Average age of overweight: {avg_age_overweight:.2f}\")\n",
        "print()\n"
      ]
    },
    {
      "cell_type": "markdown",
      "id": "N5hqSvAob3R5",
      "metadata": {
        "id": "N5hqSvAob3R5"
      },
      "source": [
        "###    Question 7: Simple Linear Regression on Biostats (4 point)\n",
        "\n",
        "Use Age (feature) to predict Weight(kg) in the biostats data:\n",
        "\n",
        "1.   Split 80/20 with random_state=0.\n",
        "2.   Fit LinearRegression() (no scaling needed for a single feature).\n",
        "3.   Report test R² and RMSE.\n",
        "4.   Plot Age vs Weight with the fitted regression line.\n"
      ]
    },
    {
      "cell_type": "code",
      "execution_count": null,
      "id": "UpQRa91gcJQK",
      "metadata": {
        "id": "UpQRa91gcJQK"
      },
      "outputs": [],
      "source": [
        "from sklearn.model_selection import train_test_split\n",
        "from sklearn.linear_model import LinearRegression\n",
        "from sklearn.metrics import r2_score, mean_squared_error\n",
        "import numpy as np\n",
        "import matplotlib.pyplot as plt\n",
        "\n",
        "# Simple Linear Regression: Age predicts Weight(kg)\n",
        "X_age = ages.reshape(-1, 1)  # Reshape for sklearn\n",
        "y_wkg = weights_kg\n",
        "\n",
        "# Split data 80/20\n",
        "X_tr, X_te, y_tr, y_te = train_test_split(X_age, y_wkg, test_size=0.2, random_state=0)\n",
        "\n",
        "# Fit linear regression model\n",
        "linreg = LinearRegression()\n",
        "linreg.fit(X_tr, y_tr)\n",
        "\n",
        "# Predictions and metrics\n",
        "y_pred_te = linreg.predict(X_te)\n",
        "r2_bio = r2_score(y_te, y_pred_te)\n",
        "rmse_bio = np.sqrt(mean_squared_error(y_te, y_pred_te))\n",
        "\n",
        "print(\"Question 7 (Linear Regression):\")\n",
        "print(f\"Test R² Score: {r2_bio:.4f}\")\n",
        "print(f\"Test RMSE: {rmse_bio:.2f} kg\")\n",
        "print(f\"Regression equation: Weight = {linreg.coef_[0]:.2f} * Age + {linreg.intercept_:.2f}\")\n",
        "print()\n",
        "\n",
        "# Plot with regression line\n",
        "plt.figure(figsize=(10, 6))\n",
        "plt.scatter(ages, weights_kg, alpha=0.6, s=100, label='Actual data')\n",
        "line_x = np.linspace(ages.min(), ages.max(), 100).reshape(-1, 1)\n",
        "line_y = linreg.predict(line_x)\n",
        "plt.plot(line_x, line_y, color='red', linewidth=2, label='Regression line')\n",
        "plt.title(f'Weight vs Age with Regression Line (R² = {r2_bio:.3f})')\n",
        "plt.xlabel('Age (years)')\n",
        "plt.ylabel('Weight (kg)')\n",
        "plt.legend()\n",
        "plt.grid(True, alpha=0.3)\n",
        "plt.tight_layout()\n",
        "plt.savefig('regression_plot.png', dpi=300, bbox_inches='tight')\n",
        "plt.show()\n",
        "\n",
        "print(\"All questions completed!\")"
      ]
    }
  ],
  "metadata": {
    "colab": {
      "provenance": []
    },
    "kernelspec": {
      "display_name": "Python 3 (ipykernel)",
      "language": "python",
      "name": "python3"
    },
    "language_info": {
      "codemirror_mode": {
        "name": "ipython",
        "version": 3
      },
      "file_extension": ".py",
      "mimetype": "text/x-python",
      "name": "python",
      "nbconvert_exporter": "python",
      "pygments_lexer": "ipython3",
      "version": "3.12.5"
    }
  },
  "nbformat": 4,
  "nbformat_minor": 5
}
