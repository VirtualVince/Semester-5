{
  "cells": [
    {
      "cell_type": "markdown",
      "metadata": {
        "id": "ugfEYUjvkTxW"
      },
      "source": [
        "## Python Recap\n"
      ]
    },
    {
      "cell_type": "markdown",
      "metadata": {
        "id": "Fw6KgguJkTxW"
      },
      "source": [
        "## List Slicing"
      ]
    },
    {
      "cell_type": "markdown",
      "metadata": {
        "id": "mZ94aq_UkTxW"
      },
      "source": [
        "\"We focus on `list` slicing here because of its importance in solving data science problems. Next week, we'll talk about `NumPy arrays`, which are inherently lists of numbers with more efficiency for numerical computations such as statistical analysis (e.g., mean, median, and variance) and linear algebra (e.g., matrix multiplication and dot product).\n"
      ]
    },
    {
      "cell_type": "markdown",
      "metadata": {
        "id": "i_l2Plm5kTxX"
      },
      "source": [
        "**Basic slicing with step**"
      ]
    },
    {
      "cell_type": "code",
      "execution_count": 1,
      "metadata": {
        "colab": {
          "base_uri": "https://localhost:8080/"
        },
        "id": "1DfRXQn2kTxX",
        "outputId": "1adc9631-4ab6-4dae-b679-3e6843a6c492"
      },
      "outputs": [
        {
          "name": "stdout",
          "output_type": "stream",
          "text": [
            "[20, 40]\n"
          ]
        }
      ],
      "source": [
        "# [startIndex:stopIndex:step] - start index is inclusive, stop index is exclusive\n",
        "# Create a list of numbers\n",
        "my_list = [10, 20, 30, 40, 50, 60, 70, 80]\n",
        "\n",
        "# Slicing from index 1 to 5 (exclusive) with a step of 2\n",
        "print(my_list[1:5:2])  # Output: [20, 40]"
      ]
    },
    {
      "cell_type": "code",
      "execution_count": null,
      "metadata": {},
      "outputs": [],
      "source": []
    },
    {
      "cell_type": "markdown",
      "metadata": {
        "id": "OWIHubAmkTxX"
      },
      "source": [
        "**Slicing with negative indices and negative steps**"
      ]
    },
    {
      "cell_type": "code",
      "execution_count": 2,
      "metadata": {
        "colab": {
          "base_uri": "https://localhost:8080/"
        },
        "id": "j-lGUqL3kTxX",
        "outputId": "c53a9ef4-9cb7-482c-f84a-e664c698f783"
      },
      "outputs": [
        {
          "name": "stdout",
          "output_type": "stream",
          "text": [
            "[40, 50, 60, 70]\n",
            "[80, 70, 60, 50]\n"
          ]
        }
      ],
      "source": [
        "# Slicing the list using negative indices\n",
        "print(my_list[-5:-1])  # Output: [40, 50, 60, 70]\n",
        "print(my_list[-1:-5:-1])  # Output: [80, 70, 60, 50]"
      ]
    },
    {
      "cell_type": "markdown",
      "metadata": {
        "id": "01mGkaozkTxX"
      },
      "source": [
        "**Similarity between slicing and range function**"
      ]
    },
    {
      "cell_type": "code",
      "execution_count": 3,
      "metadata": {
        "colab": {
          "base_uri": "https://localhost:8080/"
        },
        "id": "KyUXcn1ckTxX",
        "outputId": "2502489c-7593-4a82-a996-131e86216ca1"
      },
      "outputs": [
        {
          "name": "stdout",
          "output_type": "stream",
          "text": [
            "====positive step=====\n",
            "2\n",
            "4\n",
            "6\n",
            "8\n",
            "====negative step=====\n",
            "10\n",
            "9\n",
            "8\n",
            "7\n",
            "6\n"
          ]
        }
      ],
      "source": [
        "print(\"====positive step=====\")\n",
        "for i in range(2, 10, 2):\n",
        "    print(i)\n",
        "\n",
        "print(\"====negative step=====\")\n",
        "for i in range(10, 5, -1):\n",
        "    print(i)"
      ]
    },
    {
      "cell_type": "markdown",
      "metadata": {
        "id": "nnb-Q_vokTxX"
      },
      "source": [
        "**Omitting start or end index**"
      ]
    },
    {
      "cell_type": "code",
      "execution_count": 4,
      "metadata": {
        "colab": {
          "base_uri": "https://localhost:8080/"
        },
        "id": "DSypts39kTxX",
        "outputId": "d106ff63-9560-4dc7-d182-8d7d9698117c"
      },
      "outputs": [
        {
          "name": "stdout",
          "output_type": "stream",
          "text": [
            "[10, 20, 30, 40, 50]\n",
            "[40, 50, 60, 70, 80]\n",
            "[10, 30, 50, 70]\n"
          ]
        }
      ],
      "source": [
        "# Slicing from the beginning to index 4 (exclusive)\n",
        "print(my_list[:5])  # Output: [10, 20, 30, 40, 50]\n",
        "\n",
        "# Slicing from index 3 to the end of the list\n",
        "print(my_list[3:])  # Output: [40, 50, 60, 70, 80]\n",
        "\n",
        "# Slicing with a step of 2\n",
        "print(my_list[::2])  # Output: [10, 30, 50, 70]\n"
      ]
    },
    {
      "cell_type": "markdown",
      "metadata": {
        "id": "oeRd8BQckTxY"
      },
      "source": [
        "**Reverse the list using slicing**"
      ]
    },
    {
      "cell_type": "code",
      "execution_count": 5,
      "metadata": {
        "colab": {
          "base_uri": "https://localhost:8080/"
        },
        "id": "wqmnKvv5kTxY",
        "outputId": "4bd65fd4-3150-446e-d1cb-68e8abe69c4e"
      },
      "outputs": [
        {
          "name": "stdout",
          "output_type": "stream",
          "text": [
            "[80, 70, 60, 50, 40, 30, 20, 10]\n"
          ]
        }
      ],
      "source": [
        "print(my_list[::-1])  # Output: [80, 70, 60, 50, 40, 30, 20, 10]"
      ]
    },
    {
      "cell_type": "markdown",
      "metadata": {
        "id": "cqtj4gFOkTxY"
      },
      "source": [
        "**Copying a list using slicing**"
      ]
    },
    {
      "cell_type": "code",
      "execution_count": 6,
      "metadata": {
        "colab": {
          "base_uri": "https://localhost:8080/"
        },
        "id": "bHvgwO1DkTxY",
        "outputId": "13d9cef6-630c-4387-9f13-d9a4b65cfd5a"
      },
      "outputs": [
        {
          "name": "stdout",
          "output_type": "stream",
          "text": [
            "[10, 20, 30, 40, 50, 60, 70, 80]\n"
          ]
        }
      ],
      "source": [
        "# Create a copy of the entire list using slicing\n",
        "copy_list = my_list[:] # This is useful for when you want to make a copy of a batch (chunk of the original data set)\n",
        "copy_list_backward = my_list[::-1]\n",
        "\n",
        "print(copy_list) # Output: [10, 20, 30, 40, 50, 60, 70, 80]\n",
        "copy_list[0] = 0 # When you change the value of one variable, it does not affect the other because they are different memory addresses\n",
        "print(my_list)\n",
        "print(copy_list)\n",
        "print(copy_list_backward)\n",
        "\n",
        "another_copy = my_list # These result in the SAME memory address, so when you change 1, you change both lists\n",
        "# Optional Homework: Draw the RAM diagram\n",
        "my_list[0] = 1000\n",
        "print(another_copy)\n",
        "\n",
        "print(type(copy_list)) # This is a list datatype\n",
        "print(type(another_copy)) # This is a list datatype\n",
        "print(copy_list is another_copy) # Is the memory space shared between the 2 variables? No\n"
      ]
    },
    {
      "cell_type": "markdown",
      "metadata": {
        "id": "pVA2xmfmkTxY"
      },
      "source": [
        "**Question:** What is the difference between normal copy (`list2` = `list1`) and copy with slicing (`list2`=`list1[:]`)?"
      ]
    },
    {
      "cell_type": "markdown",
      "metadata": {
        "id": "xWgdu3uRkTxY"
      },
      "source": [
        "## List Comprehension"
      ]
    },
    {
      "cell_type": "markdown",
      "metadata": {
        "id": "giFcHBlUkTxY"
      },
      "source": [
        "List comprehension can be replaced by a `for` loop. However, it is more concise and readable. As a data scientis, it is a good practice to use list comprehension when possible."
      ]
    },
    {
      "cell_type": "markdown",
      "metadata": {
        "id": "D3NKA5iJkTxY"
      },
      "source": [
        "**Map data from one list to another list**"
      ]
    },
    {
      "cell_type": "code",
      "execution_count": 7,
      "metadata": {
        "colab": {
          "base_uri": "https://localhost:8080/"
        },
        "id": "mBy0L02YkTxY",
        "outputId": "e8c11b00-1502-4659-d14b-dbfe41eae08c"
      },
      "outputs": [
        {
          "name": "stdout",
          "output_type": "stream",
          "text": [
            "[0, 1, 4, 9, 16]\n"
          ]
        }
      ],
      "source": [
        "nums = [0, 1, 2, 3, 4]\n",
        "squares = []\n",
        "for x in nums:\n",
        "    squares.append(x ** 2)\n",
        "print(squares)   # Prints [0, 1, 4, 9, 16]"
      ]
    },
    {
      "cell_type": "code",
      "execution_count": 8,
      "metadata": {
        "colab": {
          "base_uri": "https://localhost:8080/"
        },
        "id": "QCRKlCmbkTxY",
        "outputId": "ea84ab53-9e76-4360-89e6-cedc25dac16a"
      },
      "outputs": [
        {
          "name": "stdout",
          "output_type": "stream",
          "text": [
            "[0, 1, 4, 9, 16]\n"
          ]
        }
      ],
      "source": [
        "# list comprehensions (preferred)\n",
        "nums = [0, 1, 2, 3, 4]\n",
        "squares = [x ** 2 for x in nums]\n",
        "print(squares)   # Prints [0, 1, 4, 9, 16]"
      ]
    },
    {
      "cell_type": "markdown",
      "metadata": {
        "id": "WB4RKcalkTxY"
      },
      "source": [
        "**Filter data**"
      ]
    },
    {
      "cell_type": "code",
      "execution_count": 9,
      "metadata": {
        "colab": {
          "base_uri": "https://localhost:8080/"
        },
        "id": "Cz9T8is1kTxY",
        "outputId": "526367fb-971b-4651-ef41-48b707215b47"
      },
      "outputs": [
        {
          "name": "stdout",
          "output_type": "stream",
          "text": [
            "[1, 2, 4]\n"
          ]
        }
      ],
      "source": [
        "nums = [0, 1, 2, -3, 4, -5]\n",
        "#filter pisitive numbers\n",
        "even_squares = [x for x in nums if x > 0]\n",
        "print(even_squares)  # Prints \"[0, 4, 16]\""
      ]
    },
    {
      "cell_type": "markdown",
      "metadata": {
        "id": "8pvjMQqykTxY"
      },
      "source": [
        "## Lambda functions (anonymous functions)"
      ]
    },
    {
      "cell_type": "markdown",
      "metadata": {
        "id": "PPJAN26DkTxY"
      },
      "source": [
        "Sometimes, you only need a function for a quick operation, and there's no need to give it a name.\n",
        "`lambda` allows you to define functions on the fly, without cluttering your code with function names that are only used once.\n",
        "\n",
        "Syntax:\n",
        "\n",
        "```python\n",
        "#defining a nameless function in one line\n",
        "lambda arguments: expression\n",
        "```"
      ]
    },
    {
      "cell_type": "code",
      "execution_count": 10,
      "metadata": {
        "colab": {
          "base_uri": "https://localhost:8080/"
        },
        "id": "P0KshY3rkTxY",
        "outputId": "08847f0f-ca4e-4429-9bce-cc5371feee19"
      },
      "outputs": [
        {
          "name": "stdout",
          "output_type": "stream",
          "text": [
            "120\n"
          ]
        }
      ],
      "source": [
        "from functools import reduce\n",
        "\n",
        "\n",
        "# List of numbers\n",
        "numbers = [1, 2, 3, 4, 5]\n",
        "\n",
        "# Use reduce with lambda to calculate the product of all numbers\n",
        "result = reduce(lambda x, y: x * y, numbers)\n",
        "\n",
        "#First iteration: 1 * 2 = 2\n",
        "#Second iteration: 2 * 3 = 6\n",
        "#Third iteration: 6 * 4 = 24\n",
        "#Fourth iteration: 24 * 5 = 120\n",
        "\n",
        "print(result)  # Output: 120"
      ]
    },
    {
      "cell_type": "markdown",
      "metadata": {
        "id": "r6-zEV07kTxY"
      },
      "source": [
        "**Note:** `reduce()` applies a function cumulatively to the items of an iterable (such as list), reducing them to a single result."
      ]
    },
    {
      "cell_type": "markdown",
      "metadata": {
        "id": "vJ6HcrjlkTxY"
      },
      "source": [
        "Another approach is to use `def` to define a function. However, `def` is more suitable for functions that are used multiple times in your code."
      ]
    },
    {
      "cell_type": "code",
      "execution_count": 11,
      "metadata": {
        "colab": {
          "base_uri": "https://localhost:8080/"
        },
        "id": "GWqjOsdTkTxZ",
        "outputId": "aefa1355-b5b8-4fa2-9efc-2c2f621f7571"
      },
      "outputs": [
        {
          "name": "stdout",
          "output_type": "stream",
          "text": [
            "120\n"
          ]
        }
      ],
      "source": [
        "def product(x, y):\n",
        "    return x * y\n",
        "\n",
        "result = reduce(product, numbers)  # Output: 120\n",
        "print(result)  # Output: 120"
      ]
    },
    {
      "cell_type": "markdown",
      "metadata": {
        "id": "nuHSpK8pkTxZ"
      },
      "source": [
        "**Note:**  we don't call a fucntion product(x, y), instead we pass the function itself (functional programming). So with `lambda`, we can pass an function without name (anonymous) as an argument to another function."
      ]
    },
    {
      "cell_type": "markdown",
      "metadata": {
        "id": "6JlUTWB4kTxZ"
      },
      "source": [
        "We use `lambda` function next session when we talk about `Pandas` library for data manipulation (e.g., filtering rows, selecting columns, and applying functions to columns)."
      ]
    },
    {
      "cell_type": "markdown",
      "metadata": {
        "id": "eGvc3-pakTxZ"
      },
      "source": [
        "## Dictionary\n",
        "`Dictionary` in python is a very useful data structure to represents data in key-value pairs. We're going to talk about the other represntation of data such `pandas dataframe` in this course. But keep in mind, conceptually, they are other manifestation of `dictionary` in python with some addtion features to make it easier to work with data."
      ]
    },
    {
      "cell_type": "code",
      "execution_count": 12,
      "metadata": {
        "id": "AoxYaw9CkTxZ"
      },
      "outputs": [],
      "source": [
        "data_dict = {'Name': ['Alice', 'Bob', 'Aritra'],\n",
        "                   'Age': [25, 30, 35],\n",
        "                   'Location': ['Seattle', 'New York', 'Kona']}"
      ]
    },
    {
      "cell_type": "code",
      "execution_count": 13,
      "metadata": {
        "colab": {
          "base_uri": "https://localhost:8080/"
        },
        "id": "yv4rYk-JkTxZ",
        "outputId": "03078e15-b5f2-46f5-c618-d6a747038ad5"
      },
      "outputs": [
        {
          "name": "stdout",
          "output_type": "stream",
          "text": [
            "Alice\n"
          ]
        }
      ],
      "source": [
        "print(data_dict['Name'][0])  # Output: Alice"
      ]
    },
    {
      "cell_type": "markdown",
      "metadata": {
        "id": "TFGOvRGUkTxZ"
      },
      "source": [
        "This data is in the form of `dictionaly of lists`. We can also express it in the form of `list of dictionaries` as shown below:"
      ]
    },
    {
      "cell_type": "code",
      "execution_count": 14,
      "metadata": {
        "id": "oB9FMvtGkTxZ"
      },
      "outputs": [],
      "source": [
        "data_list = [{'Name': 'Alice', 'Age': 25, 'Location': 'Seattle'},\n",
        "         {'Name': 'Bob', 'Age': 30, 'Location': 'New York'},\n",
        "         {'Name': 'Aritra', 'Age': 35, 'Location': 'Kona'}]"
      ]
    },
    {
      "cell_type": "code",
      "execution_count": 15,
      "metadata": {
        "colab": {
          "base_uri": "https://localhost:8080/"
        },
        "id": "J07IB9Y9kTxZ",
        "outputId": "f2acb859-0d70-43b5-eb07-4ae9435eb1da"
      },
      "outputs": [
        {
          "name": "stdout",
          "output_type": "stream",
          "text": [
            "Alice\n"
          ]
        }
      ],
      "source": [
        "print(data_list[0]['Name'])  # Output: Alice"
      ]
    },
    {
      "cell_type": "markdown",
      "metadata": {
        "id": "u7nlZmKbkTxZ"
      },
      "source": [
        "## Instructions\n",
        "Use the links to write your codes in LeetCode website. After writing your code, copy and paste it from LeetCode the `.html` file. Submit the `.html` file in the assignment submission area on D2L.\n",
        "\n",
        "**Important Note:** Mention in your text file whether your code accepted or not. There is NO penalty for wrong answers. The purpose of this assignment is to practice coding.\n",
        "\n",
        "\n",
        "### LeetCode problems on Dictionary\n",
        "\n",
        "**217. Contains Duplicate** - Live programming\n",
        "\n",
        "https://leetcode.com/problems/contains-duplicate/description/\n",
        "\n",
        "\n",
        "**242. Valid Anagram**\n",
        "\n",
        "https://leetcode.com/problems/valid-anagram/description/\n",
        "\n",
        "**1. Two Sum**\n",
        "\n",
        "https://leetcode.com/problems/two-sum/description/\n",
        "\n",
        "**26. Remove Duplicates from Sorted Array**\n",
        "\n",
        "https://leetcode.com/problems/remove-duplicates-from-sorted-array/description/"
      ]
    },
    {
      "cell_type": "markdown",
      "metadata": {
        "id": "6S8TN9w5kTxZ"
      },
      "source": [
        "## Practice: Generators"
      ]
    },
    {
      "cell_type": "code",
      "execution_count": 16,
      "metadata": {
        "colab": {
          "base_uri": "https://localhost:8080/"
        },
        "id": "NOQ69y7VkTxf",
        "outputId": "fc03d812-34c0-4bac-ee3f-3842175292d6"
      },
      "outputs": [
        {
          "data": {
            "text/plain": [
              "0"
            ]
          },
          "execution_count": 16,
          "metadata": {},
          "output_type": "execute_result"
        }
      ],
      "source": [
        "# For Machine Learning, there is often a large set of data that must be processed\n",
        "# Need generators to save on memory space when looping over a large data set or infinite loop\n",
        "def infinite_sequence():\n",
        "    num = 0\n",
        "    while True:\n",
        "        yield num # yield keyword it asks the system to use a generator and only loads one item in memory at a time\n",
        "        print(num)\n",
        "        num += 1\n",
        "\n",
        "gen = infinite_sequence()\n",
        "next(gen) # Function moves an iterator to the next item"
      ]
    },
    {
      "cell_type": "code",
      "execution_count": 17,
      "metadata": {
        "colab": {
          "base_uri": "https://localhost:8080/"
        },
        "id": "Uup_ca7ckTxf",
        "outputId": "31ddf5cf-8265-45e8-cab1-be64f8503271"
      },
      "outputs": [
        {
          "name": "stdout",
          "output_type": "stream",
          "text": [
            "0\n"
          ]
        },
        {
          "data": {
            "text/plain": [
              "1"
            ]
          },
          "execution_count": 17,
          "metadata": {},
          "output_type": "execute_result"
        }
      ],
      "source": [
        "next(gen)"
      ]
    },
    {
      "cell_type": "code",
      "execution_count": 18,
      "metadata": {
        "colab": {
          "base_uri": "https://localhost:8080/"
        },
        "id": "VBvaxo7PkTxf",
        "outputId": "5757bb25-d4cd-44c0-e9da-7588a7c4d754"
      },
      "outputs": [
        {
          "name": "stdout",
          "output_type": "stream",
          "text": [
            "1\n"
          ]
        },
        {
          "data": {
            "text/plain": [
              "2"
            ]
          },
          "execution_count": 18,
          "metadata": {},
          "output_type": "execute_result"
        }
      ],
      "source": [
        "next(gen)"
      ]
    },
    {
      "cell_type": "markdown",
      "metadata": {
        "id": "NT4SXVAjkTxf"
      },
      "source": [
        "## Practice: Exceptions and errors"
      ]
    },
    {
      "cell_type": "code",
      "execution_count": 19,
      "metadata": {
        "id": "tPJ3sP-pkTxf"
      },
      "outputs": [],
      "source": [
        "# Options for using exceptions:\n",
        "# 1. raise/throw a built-in exception\n",
        "# 2. create a custom exception, and then raise/throw it"
      ]
    },
    {
      "cell_type": "code",
      "execution_count": 20,
      "metadata": {
        "colab": {
          "base_uri": "https://localhost:8080/"
        },
        "id": "lmMq-YTTkTxf",
        "outputId": "29aa1bce-5de4-4cce-aa8b-dacf7d738682"
      },
      "outputs": [
        {
          "name": "stdout",
          "output_type": "stream",
          "text": [
            "SIN number invalid: SIN number must be exactly 9 digits\n"
          ]
        }
      ],
      "source": [
        "# raise keyword can be used to raise/throw an error during production (live running of the code)\n",
        "sin_number = 1111111112 # Business constraint: SIN number is always 9 digits\n",
        "# Programming constraint -> Raise/throw the error\n",
        "\n",
        "# raise keyword passes the control of the computer to the error handler.\n",
        "# And does not continue the regular execution of the code\n",
        "try:\n",
        "    if len(str(sin_number)) != 9:\n",
        "        raise ValueError(\"SIN number must be exactly 9 digits\");\n",
        "    else:\n",
        "        print(\"SIN number is valid\")\n",
        "except(ValueError) as valueErrorObject:\n",
        "        print(f\"SIN number invalid: {valueErrorObject}\")\n",
        "\n"
      ]
    },
    {
      "cell_type": "code",
      "execution_count": 21,
      "metadata": {
        "colab": {
          "base_uri": "https://localhost:8080/",
          "height": 141
        },
        "id": "PSGvlSRckTxg",
        "outputId": "17a34961-430b-4531-e6aa-24a9ba6ade1f"
      },
      "outputs": [
        {
          "ename": "ZeroDivisionError",
          "evalue": "division by zero",
          "output_type": "error",
          "traceback": [
            "\u001b[0;31m---------------------------------------------------------------------------\u001b[0m",
            "\u001b[0;31mZeroDivisionError\u001b[0m                         Traceback (most recent call last)",
            "\u001b[0;32m/tmp/ipython-input-120515159.py\u001b[0m in \u001b[0;36m<cell line: 0>\u001b[0;34m()\u001b[0m\n\u001b[0;32m----> 1\u001b[0;31m \u001b[0mquotient\u001b[0m \u001b[0;34m=\u001b[0m \u001b[0;36m1\u001b[0m\u001b[0;34m/\u001b[0m\u001b[0;36m0\u001b[0m \u001b[0;31m# This will raise an error on its own\u001b[0m\u001b[0;34m\u001b[0m\u001b[0;34m\u001b[0m\u001b[0m\n\u001b[0m",
            "\u001b[0;31mZeroDivisionError\u001b[0m: division by zero"
          ]
        }
      ],
      "source": [
        "quotient = 1/0 # This will raise an error on its own"
      ]
    },
    {
      "cell_type": "code",
      "execution_count": null,
      "metadata": {
        "id": "oPnRgr-pkTxg"
      },
      "outputs": [],
      "source": [
        "# assert() function can be used for unit testing\n",
        "assert(len(str(sin_number)) == 9), f\"The SIN number must be exactly 9 digits, but was: {sin_number}\""
      ]
    }
  ],
  "metadata": {
    "colab": {
      "provenance": []
    },
    "kernelspec": {
      "display_name": ".pydata",
      "language": "python",
      "name": "python3"
    },
    "language_info": {
      "codemirror_mode": {
        "name": "ipython",
        "version": 3
      },
      "file_extension": ".py",
      "mimetype": "text/x-python",
      "name": "python",
      "nbconvert_exporter": "python",
      "pygments_lexer": "ipython3",
      "version": "3.11.4"
    }
  },
  "nbformat": 4,
  "nbformat_minor": 0
}
